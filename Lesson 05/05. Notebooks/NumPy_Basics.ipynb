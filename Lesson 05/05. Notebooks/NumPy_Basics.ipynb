{
 "cells": [
  {
   "cell_type": "code",
   "execution_count": 2,
   "metadata": {},
   "outputs": [],
   "source": [
    "import numpy as np"
   ]
  },
  {
   "cell_type": "markdown",
   "metadata": {},
   "source": [
    "Scalars"
   ]
  },
  {
   "cell_type": "code",
   "execution_count": 3,
   "metadata": {},
   "outputs": [
    {
     "data": {
      "text/plain": [
       "array(5)"
      ]
     },
     "execution_count": 3,
     "metadata": {},
     "output_type": "execute_result"
    }
   ],
   "source": [
    "s = np.array(5)\n",
    "s"
   ]
  },
  {
   "cell_type": "code",
   "execution_count": 4,
   "metadata": {},
   "outputs": [
    {
     "data": {
      "text/plain": [
       "()"
      ]
     },
     "execution_count": 4,
     "metadata": {},
     "output_type": "execute_result"
    }
   ],
   "source": [
    "s.shape"
   ]
  },
  {
   "cell_type": "code",
   "execution_count": 5,
   "metadata": {},
   "outputs": [
    {
     "data": {
      "text/plain": [
       "8"
      ]
     },
     "execution_count": 5,
     "metadata": {},
     "output_type": "execute_result"
    }
   ],
   "source": [
    "x = s + 3\n",
    "x"
   ]
  },
  {
   "cell_type": "markdown",
   "metadata": {},
   "source": [
    "Vectors"
   ]
  },
  {
   "cell_type": "code",
   "execution_count": 6,
   "metadata": {},
   "outputs": [
    {
     "data": {
      "text/plain": [
       "array([1, 2, 3])"
      ]
     },
     "execution_count": 6,
     "metadata": {},
     "output_type": "execute_result"
    }
   ],
   "source": [
    "v = np.array([1, 2, 3])\n",
    "v"
   ]
  },
  {
   "cell_type": "code",
   "execution_count": 7,
   "metadata": {},
   "outputs": [
    {
     "data": {
      "text/plain": [
       "(3,)"
      ]
     },
     "execution_count": 7,
     "metadata": {},
     "output_type": "execute_result"
    }
   ],
   "source": [
    "v.shape"
   ]
  },
  {
   "cell_type": "code",
   "execution_count": 9,
   "metadata": {},
   "outputs": [
    {
     "data": {
      "text/plain": [
       "(1, 2)"
      ]
     },
     "execution_count": 9,
     "metadata": {},
     "output_type": "execute_result"
    }
   ],
   "source": [
    "el_0 = v[0]\n",
    "el_1 = v[1]\n",
    "el_0, el_1"
   ]
  },
  {
   "cell_type": "code",
   "execution_count": 10,
   "metadata": {},
   "outputs": [
    {
     "data": {
      "text/plain": [
       "array([2, 3])"
      ]
     },
     "execution_count": 10,
     "metadata": {},
     "output_type": "execute_result"
    }
   ],
   "source": [
    "v[1:]"
   ]
  },
  {
   "cell_type": "markdown",
   "metadata": {},
   "source": [
    "Matrices"
   ]
  },
  {
   "cell_type": "code",
   "execution_count": 11,
   "metadata": {},
   "outputs": [
    {
     "data": {
      "text/plain": [
       "array([[1, 2, 3],\n",
       "       [4, 5, 6],\n",
       "       [7, 8, 9]])"
      ]
     },
     "execution_count": 11,
     "metadata": {},
     "output_type": "execute_result"
    }
   ],
   "source": [
    "m = np.array([[1, 2, 3], [4, 5, 6], [7, 8, 9]])\n",
    "m"
   ]
  },
  {
   "cell_type": "code",
   "execution_count": 12,
   "metadata": {},
   "outputs": [
    {
     "data": {
      "text/plain": [
       "(3, 3)"
      ]
     },
     "execution_count": 12,
     "metadata": {},
     "output_type": "execute_result"
    }
   ],
   "source": [
    "m.shape"
   ]
  },
  {
   "cell_type": "code",
   "execution_count": 13,
   "metadata": {},
   "outputs": [
    {
     "data": {
      "text/plain": [
       "9"
      ]
     },
     "execution_count": 13,
     "metadata": {},
     "output_type": "execute_result"
    }
   ],
   "source": [
    "m[2][2]"
   ]
  },
  {
   "cell_type": "markdown",
   "metadata": {},
   "source": [
    "Tensors"
   ]
  },
  {
   "cell_type": "code",
   "execution_count": 16,
   "metadata": {},
   "outputs": [
    {
     "data": {
      "text/plain": [
       "(3, 3, 2, 1)"
      ]
     },
     "execution_count": 16,
     "metadata": {},
     "output_type": "execute_result"
    }
   ],
   "source": [
    "t = np.array([[[[1], [2]], [[3], [4]], [[5], [6]]], [[[7], [8]],\\\n",
    "               [[9], [10]], [[11], [12]]], [[[13], [14]], [[15], [16]], [[17], [17]]]])\n",
    "t.shape"
   ]
  },
  {
   "cell_type": "markdown",
   "metadata": {},
   "source": [
    "There are 3 external components. Each component is made of other 3 components. Each of them made of 2 components, each made of 1 component. \n",
    "\n",
    "Let's access the element equal to 5"
   ]
  },
  {
   "cell_type": "code",
   "execution_count": 19,
   "metadata": {},
   "outputs": [
    {
     "data": {
      "text/plain": [
       "5"
      ]
     },
     "execution_count": 19,
     "metadata": {},
     "output_type": "execute_result"
    }
   ],
   "source": [
    "y = t[0][2][0][0]\n",
    "y"
   ]
  },
  {
   "cell_type": "markdown",
   "metadata": {},
   "source": [
    "Reshape - Changing Shape"
   ]
  },
  {
   "cell_type": "code",
   "execution_count": 20,
   "metadata": {},
   "outputs": [
    {
     "data": {
      "text/plain": [
       "(4,)"
      ]
     },
     "execution_count": 20,
     "metadata": {},
     "output_type": "execute_result"
    }
   ],
   "source": [
    "v1 = np.array([1, 2, 3, 4])\n",
    "v1. shape"
   ]
  },
  {
   "cell_type": "code",
   "execution_count": 21,
   "metadata": {},
   "outputs": [
    {
     "data": {
      "text/plain": [
       "array([[1],\n",
       "       [2],\n",
       "       [3],\n",
       "       [4]])"
      ]
     },
     "execution_count": 21,
     "metadata": {},
     "output_type": "execute_result"
    }
   ],
   "source": [
    "v2 = v1.reshape(4, 1)\n",
    "v2"
   ]
  },
  {
   "cell_type": "code",
   "execution_count": 22,
   "metadata": {},
   "outputs": [
    {
     "data": {
      "text/plain": [
       "array([[1, 2, 3, 4]])"
      ]
     },
     "execution_count": 22,
     "metadata": {},
     "output_type": "execute_result"
    }
   ],
   "source": [
    "x1 = v1[None, :]\n",
    "x1"
   ]
  },
  {
   "cell_type": "code",
   "execution_count": 25,
   "metadata": {},
   "outputs": [
    {
     "data": {
      "text/plain": [
       "array([[1],\n",
       "       [2],\n",
       "       [3],\n",
       "       [4]])"
      ]
     },
     "execution_count": 25,
     "metadata": {},
     "output_type": "execute_result"
    }
   ],
   "source": [
    "x2 = v1[:, None]\n",
    "x2"
   ]
  },
  {
   "cell_type": "markdown",
   "metadata": {},
   "source": [
    "Addition"
   ]
  },
  {
   "cell_type": "code",
   "execution_count": 26,
   "metadata": {},
   "outputs": [
    {
     "data": {
      "text/plain": [
       "array([ 6,  7,  8,  9, 10])"
      ]
     },
     "execution_count": 26,
     "metadata": {},
     "output_type": "execute_result"
    }
   ],
   "source": [
    "x = np.array([1, 2, 3, 4, 5])\n",
    "x1 = x + 5\n",
    "x1"
   ]
  },
  {
   "cell_type": "markdown",
   "metadata": {},
   "source": [
    "Multiplication by a scalar"
   ]
  },
  {
   "cell_type": "code",
   "execution_count": 27,
   "metadata": {},
   "outputs": [
    {
     "data": {
      "text/plain": [
       "array([ 5, 10, 15, 20, 25])"
      ]
     },
     "execution_count": 27,
     "metadata": {},
     "output_type": "execute_result"
    }
   ],
   "source": [
    "x3 = np.multiply(x, 5)\n",
    "x3"
   ]
  },
  {
   "cell_type": "code",
   "execution_count": 28,
   "metadata": {},
   "outputs": [
    {
     "data": {
      "text/plain": [
       "array([[0, 0, 0],\n",
       "       [0, 0, 0],\n",
       "       [0, 0, 0]])"
      ]
     },
     "execution_count": 28,
     "metadata": {},
     "output_type": "execute_result"
    }
   ],
   "source": [
    "# Useful to reset matrix\n",
    "m *= 0\n",
    "m"
   ]
  },
  {
   "cell_type": "markdown",
   "metadata": {},
   "source": [
    "Element-wise Multiplication"
   ]
  },
  {
   "cell_type": "code",
   "execution_count": 3,
   "metadata": {},
   "outputs": [
    {
     "data": {
      "text/plain": [
       "array([[1, 2, 3],\n",
       "       [4, 5, 6]])"
      ]
     },
     "execution_count": 3,
     "metadata": {},
     "output_type": "execute_result"
    }
   ],
   "source": [
    "m = np.array([[1,2,3],[4,5,6]])\n",
    "m"
   ]
  },
  {
   "cell_type": "code",
   "execution_count": 4,
   "metadata": {},
   "outputs": [
    {
     "data": {
      "text/plain": [
       "array([[0.25, 0.5 , 0.75],\n",
       "       [1.  , 1.25, 1.5 ]])"
      ]
     },
     "execution_count": 4,
     "metadata": {},
     "output_type": "execute_result"
    }
   ],
   "source": [
    "n = m * 0.25\n",
    "n"
   ]
  },
  {
   "cell_type": "code",
   "execution_count": 5,
   "metadata": {},
   "outputs": [
    {
     "data": {
      "text/plain": [
       "array([[0.25, 1.  , 2.25],\n",
       "       [4.  , 6.25, 9.  ]])"
      ]
     },
     "execution_count": 5,
     "metadata": {},
     "output_type": "execute_result"
    }
   ],
   "source": [
    "m * n"
   ]
  },
  {
   "cell_type": "code",
   "execution_count": 6,
   "metadata": {},
   "outputs": [
    {
     "data": {
      "text/plain": [
       "array([[0.25, 1.  , 2.25],\n",
       "       [4.  , 6.25, 9.  ]])"
      ]
     },
     "execution_count": 6,
     "metadata": {},
     "output_type": "execute_result"
    }
   ],
   "source": [
    "np.multiply(m, n)"
   ]
  },
  {
   "cell_type": "markdown",
   "metadata": {},
   "source": [
    "Matrix product"
   ]
  },
  {
   "cell_type": "code",
   "execution_count": 9,
   "metadata": {},
   "outputs": [
    {
     "data": {
      "text/plain": [
       "array([[1, 2, 3, 4],\n",
       "       [5, 6, 7, 8]])"
      ]
     },
     "execution_count": 9,
     "metadata": {},
     "output_type": "execute_result"
    }
   ],
   "source": [
    "a = np.array([[1,2,3,4], [5,6,7,8]])\n",
    "a"
   ]
  },
  {
   "cell_type": "code",
   "execution_count": 8,
   "metadata": {},
   "outputs": [
    {
     "data": {
      "text/plain": [
       "array([[ 1,  2,  3],\n",
       "       [ 4,  5,  6],\n",
       "       [ 7,  8,  9],\n",
       "       [10, 11, 12]])"
      ]
     },
     "execution_count": 8,
     "metadata": {},
     "output_type": "execute_result"
    }
   ],
   "source": [
    "b = np.array([[1,2,3], [4,5,6], [7,8,9], [10,11,12]])\n",
    "b"
   ]
  },
  {
   "cell_type": "code",
   "execution_count": 10,
   "metadata": {},
   "outputs": [
    {
     "data": {
      "text/plain": [
       "((2, 4), (4, 3))"
      ]
     },
     "execution_count": 10,
     "metadata": {},
     "output_type": "execute_result"
    }
   ],
   "source": [
    "a.shape, b.shape"
   ]
  },
  {
   "cell_type": "code",
   "execution_count": 13,
   "metadata": {},
   "outputs": [
    {
     "data": {
      "text/plain": [
       "array([[ 70,  80,  90],\n",
       "       [158, 184, 210]])"
      ]
     },
     "execution_count": 13,
     "metadata": {},
     "output_type": "execute_result"
    }
   ],
   "source": [
    "c = np.matmul(a, b)\n",
    "c"
   ]
  },
  {
   "cell_type": "code",
   "execution_count": 14,
   "metadata": {},
   "outputs": [
    {
     "data": {
      "text/plain": [
       "array([  0,   1,   2,   3,   4,   5,   6,   7,   8,   9,  10,  11,  12,\n",
       "        13,  14,  15,  16,  17,  18,  19,  20,  21,  22,  23,  24,  25,\n",
       "        26,  27,  28,  29,  30,  31,  32,  33,  34,  35,  36,  37,  38,\n",
       "        39,  40,  41,  42,  43,  44,  45,  46,  47,  48,  49,  50,  51,\n",
       "        52,  53,  54,  55,  56,  57,  58,  59,  60,  61,  62,  63,  64,\n",
       "        65,  66,  67,  68,  69,  70,  71,  72,  73,  74,  75,  76,  77,\n",
       "        78,  79,  80,  81,  82,  83,  84,  85,  86,  87,  88,  89,  90,\n",
       "        91,  92,  93,  94,  95,  96,  97,  98,  99, 100, 101, 102, 103,\n",
       "       104, 105, 106, 107, 108, 109, 110, 111, 112, 113, 114, 115, 116,\n",
       "       117, 118, 119, 120, 121, 122, 123, 124, 125, 126, 127, 128, 129,\n",
       "       130, 131, 132, 133, 134, 135, 136, 137, 138, 139, 140, 141, 142,\n",
       "       143, 144, 145, 146, 147, 148, 149, 150, 151, 152, 153, 154, 155,\n",
       "       156, 157, 158, 159, 160, 161, 162, 163, 164, 165, 166, 167, 168,\n",
       "       169, 170, 171, 172, 173, 174, 175, 176, 177, 178, 179, 180, 181,\n",
       "       182, 183, 184, 185, 186, 187, 188, 189, 190, 191, 192, 193, 194,\n",
       "       195, 196, 197, 198, 199, 200, 201, 202, 203, 204, 205, 206, 207,\n",
       "       208, 209, 210, 211, 212, 213, 214, 215, 216, 217, 218, 219, 220,\n",
       "       221, 222, 223, 224, 225, 226, 227, 228, 229, 230, 231, 232, 233,\n",
       "       234, 235, 236, 237, 238, 239, 240, 241, 242, 243, 244, 245, 246,\n",
       "       247, 248, 249, 250, 251, 252, 253, 254, 255, 256, 257, 258, 259,\n",
       "       260, 261, 262, 263, 264, 265, 266, 267, 268, 269, 270, 271, 272,\n",
       "       273, 274, 275, 276, 277, 278, 279, 280, 281, 282, 283, 284, 285,\n",
       "       286, 287, 288, 289, 290, 291, 292, 293, 294, 295, 296, 297, 298,\n",
       "       299, 300, 301, 302, 303, 304, 305, 306, 307, 308, 309, 310, 311,\n",
       "       312, 313, 314, 315, 316, 317, 318, 319, 320, 321, 322, 323, 324,\n",
       "       325, 326, 327, 328, 329, 330, 331, 332, 333, 334, 335, 336, 337,\n",
       "       338, 339, 340, 341, 342, 343, 344, 345, 346, 347, 348, 349, 350,\n",
       "       351, 352, 353, 354, 355, 356, 357, 358, 359])"
      ]
     },
     "execution_count": 14,
     "metadata": {},
     "output_type": "execute_result"
    }
   ],
   "source": [
    "a = np.arange(3*4*5*6)\n",
    "a"
   ]
  },
  {
   "cell_type": "code",
   "execution_count": 16,
   "metadata": {},
   "outputs": [
    {
     "data": {
      "text/plain": [
       "array([[[[  0,   1,   2,   3,   4,   5],\n",
       "         [  6,   7,   8,   9,  10,  11],\n",
       "         [ 12,  13,  14,  15,  16,  17],\n",
       "         [ 18,  19,  20,  21,  22,  23],\n",
       "         [ 24,  25,  26,  27,  28,  29]],\n",
       "\n",
       "        [[ 30,  31,  32,  33,  34,  35],\n",
       "         [ 36,  37,  38,  39,  40,  41],\n",
       "         [ 42,  43,  44,  45,  46,  47],\n",
       "         [ 48,  49,  50,  51,  52,  53],\n",
       "         [ 54,  55,  56,  57,  58,  59]],\n",
       "\n",
       "        [[ 60,  61,  62,  63,  64,  65],\n",
       "         [ 66,  67,  68,  69,  70,  71],\n",
       "         [ 72,  73,  74,  75,  76,  77],\n",
       "         [ 78,  79,  80,  81,  82,  83],\n",
       "         [ 84,  85,  86,  87,  88,  89]],\n",
       "\n",
       "        [[ 90,  91,  92,  93,  94,  95],\n",
       "         [ 96,  97,  98,  99, 100, 101],\n",
       "         [102, 103, 104, 105, 106, 107],\n",
       "         [108, 109, 110, 111, 112, 113],\n",
       "         [114, 115, 116, 117, 118, 119]]],\n",
       "\n",
       "\n",
       "       [[[120, 121, 122, 123, 124, 125],\n",
       "         [126, 127, 128, 129, 130, 131],\n",
       "         [132, 133, 134, 135, 136, 137],\n",
       "         [138, 139, 140, 141, 142, 143],\n",
       "         [144, 145, 146, 147, 148, 149]],\n",
       "\n",
       "        [[150, 151, 152, 153, 154, 155],\n",
       "         [156, 157, 158, 159, 160, 161],\n",
       "         [162, 163, 164, 165, 166, 167],\n",
       "         [168, 169, 170, 171, 172, 173],\n",
       "         [174, 175, 176, 177, 178, 179]],\n",
       "\n",
       "        [[180, 181, 182, 183, 184, 185],\n",
       "         [186, 187, 188, 189, 190, 191],\n",
       "         [192, 193, 194, 195, 196, 197],\n",
       "         [198, 199, 200, 201, 202, 203],\n",
       "         [204, 205, 206, 207, 208, 209]],\n",
       "\n",
       "        [[210, 211, 212, 213, 214, 215],\n",
       "         [216, 217, 218, 219, 220, 221],\n",
       "         [222, 223, 224, 225, 226, 227],\n",
       "         [228, 229, 230, 231, 232, 233],\n",
       "         [234, 235, 236, 237, 238, 239]]],\n",
       "\n",
       "\n",
       "       [[[240, 241, 242, 243, 244, 245],\n",
       "         [246, 247, 248, 249, 250, 251],\n",
       "         [252, 253, 254, 255, 256, 257],\n",
       "         [258, 259, 260, 261, 262, 263],\n",
       "         [264, 265, 266, 267, 268, 269]],\n",
       "\n",
       "        [[270, 271, 272, 273, 274, 275],\n",
       "         [276, 277, 278, 279, 280, 281],\n",
       "         [282, 283, 284, 285, 286, 287],\n",
       "         [288, 289, 290, 291, 292, 293],\n",
       "         [294, 295, 296, 297, 298, 299]],\n",
       "\n",
       "        [[300, 301, 302, 303, 304, 305],\n",
       "         [306, 307, 308, 309, 310, 311],\n",
       "         [312, 313, 314, 315, 316, 317],\n",
       "         [318, 319, 320, 321, 322, 323],\n",
       "         [324, 325, 326, 327, 328, 329]],\n",
       "\n",
       "        [[330, 331, 332, 333, 334, 335],\n",
       "         [336, 337, 338, 339, 340, 341],\n",
       "         [342, 343, 344, 345, 346, 347],\n",
       "         [348, 349, 350, 351, 352, 353],\n",
       "         [354, 355, 356, 357, 358, 359]]]])"
      ]
     },
     "execution_count": 16,
     "metadata": {},
     "output_type": "execute_result"
    }
   ],
   "source": [
    "a = np.arange(3*4*5*6).reshape((3,4,5,6))\n",
    "a"
   ]
  },
  {
   "cell_type": "code",
   "execution_count": 17,
   "metadata": {},
   "outputs": [
    {
     "data": {
      "text/plain": [
       "array([359, 358, 357, 356, 355, 354, 353, 352, 351, 350, 349, 348, 347,\n",
       "       346, 345, 344, 343, 342, 341, 340, 339, 338, 337, 336, 335, 334,\n",
       "       333, 332, 331, 330, 329, 328, 327, 326, 325, 324, 323, 322, 321,\n",
       "       320, 319, 318, 317, 316, 315, 314, 313, 312, 311, 310, 309, 308,\n",
       "       307, 306, 305, 304, 303, 302, 301, 300, 299, 298, 297, 296, 295,\n",
       "       294, 293, 292, 291, 290, 289, 288, 287, 286, 285, 284, 283, 282,\n",
       "       281, 280, 279, 278, 277, 276, 275, 274, 273, 272, 271, 270, 269,\n",
       "       268, 267, 266, 265, 264, 263, 262, 261, 260, 259, 258, 257, 256,\n",
       "       255, 254, 253, 252, 251, 250, 249, 248, 247, 246, 245, 244, 243,\n",
       "       242, 241, 240, 239, 238, 237, 236, 235, 234, 233, 232, 231, 230,\n",
       "       229, 228, 227, 226, 225, 224, 223, 222, 221, 220, 219, 218, 217,\n",
       "       216, 215, 214, 213, 212, 211, 210, 209, 208, 207, 206, 205, 204,\n",
       "       203, 202, 201, 200, 199, 198, 197, 196, 195, 194, 193, 192, 191,\n",
       "       190, 189, 188, 187, 186, 185, 184, 183, 182, 181, 180, 179, 178,\n",
       "       177, 176, 175, 174, 173, 172, 171, 170, 169, 168, 167, 166, 165,\n",
       "       164, 163, 162, 161, 160, 159, 158, 157, 156, 155, 154, 153, 152,\n",
       "       151, 150, 149, 148, 147, 146, 145, 144, 143, 142, 141, 140, 139,\n",
       "       138, 137, 136, 135, 134, 133, 132, 131, 130, 129, 128, 127, 126,\n",
       "       125, 124, 123, 122, 121, 120, 119, 118, 117, 116, 115, 114, 113,\n",
       "       112, 111, 110, 109, 108, 107, 106, 105, 104, 103, 102, 101, 100,\n",
       "        99,  98,  97,  96,  95,  94,  93,  92,  91,  90,  89,  88,  87,\n",
       "        86,  85,  84,  83,  82,  81,  80,  79,  78,  77,  76,  75,  74,\n",
       "        73,  72,  71,  70,  69,  68,  67,  66,  65,  64,  63,  62,  61,\n",
       "        60,  59,  58,  57,  56,  55,  54,  53,  52,  51,  50,  49,  48,\n",
       "        47,  46,  45,  44,  43,  42,  41,  40,  39,  38,  37,  36,  35,\n",
       "        34,  33,  32,  31,  30,  29,  28,  27,  26,  25,  24,  23,  22,\n",
       "        21,  20,  19,  18,  17,  16,  15,  14,  13,  12,  11,  10,   9,\n",
       "         8,   7,   6,   5,   4,   3,   2,   1,   0])"
      ]
     },
     "execution_count": 17,
     "metadata": {},
     "output_type": "execute_result"
    }
   ],
   "source": [
    "b = np.arange(3*4*5*6)[::-1]\n",
    "b"
   ]
  },
  {
   "cell_type": "code",
   "execution_count": 18,
   "metadata": {},
   "outputs": [
    {
     "data": {
      "text/plain": [
       "array([[[[359, 358, 357],\n",
       "         [356, 355, 354],\n",
       "         [353, 352, 351],\n",
       "         [350, 349, 348],\n",
       "         [347, 346, 345],\n",
       "         [344, 343, 342]],\n",
       "\n",
       "        [[341, 340, 339],\n",
       "         [338, 337, 336],\n",
       "         [335, 334, 333],\n",
       "         [332, 331, 330],\n",
       "         [329, 328, 327],\n",
       "         [326, 325, 324]],\n",
       "\n",
       "        [[323, 322, 321],\n",
       "         [320, 319, 318],\n",
       "         [317, 316, 315],\n",
       "         [314, 313, 312],\n",
       "         [311, 310, 309],\n",
       "         [308, 307, 306]],\n",
       "\n",
       "        [[305, 304, 303],\n",
       "         [302, 301, 300],\n",
       "         [299, 298, 297],\n",
       "         [296, 295, 294],\n",
       "         [293, 292, 291],\n",
       "         [290, 289, 288]]],\n",
       "\n",
       "\n",
       "       [[[287, 286, 285],\n",
       "         [284, 283, 282],\n",
       "         [281, 280, 279],\n",
       "         [278, 277, 276],\n",
       "         [275, 274, 273],\n",
       "         [272, 271, 270]],\n",
       "\n",
       "        [[269, 268, 267],\n",
       "         [266, 265, 264],\n",
       "         [263, 262, 261],\n",
       "         [260, 259, 258],\n",
       "         [257, 256, 255],\n",
       "         [254, 253, 252]],\n",
       "\n",
       "        [[251, 250, 249],\n",
       "         [248, 247, 246],\n",
       "         [245, 244, 243],\n",
       "         [242, 241, 240],\n",
       "         [239, 238, 237],\n",
       "         [236, 235, 234]],\n",
       "\n",
       "        [[233, 232, 231],\n",
       "         [230, 229, 228],\n",
       "         [227, 226, 225],\n",
       "         [224, 223, 222],\n",
       "         [221, 220, 219],\n",
       "         [218, 217, 216]]],\n",
       "\n",
       "\n",
       "       [[[215, 214, 213],\n",
       "         [212, 211, 210],\n",
       "         [209, 208, 207],\n",
       "         [206, 205, 204],\n",
       "         [203, 202, 201],\n",
       "         [200, 199, 198]],\n",
       "\n",
       "        [[197, 196, 195],\n",
       "         [194, 193, 192],\n",
       "         [191, 190, 189],\n",
       "         [188, 187, 186],\n",
       "         [185, 184, 183],\n",
       "         [182, 181, 180]],\n",
       "\n",
       "        [[179, 178, 177],\n",
       "         [176, 175, 174],\n",
       "         [173, 172, 171],\n",
       "         [170, 169, 168],\n",
       "         [167, 166, 165],\n",
       "         [164, 163, 162]],\n",
       "\n",
       "        [[161, 160, 159],\n",
       "         [158, 157, 156],\n",
       "         [155, 154, 153],\n",
       "         [152, 151, 150],\n",
       "         [149, 148, 147],\n",
       "         [146, 145, 144]]],\n",
       "\n",
       "\n",
       "       [[[143, 142, 141],\n",
       "         [140, 139, 138],\n",
       "         [137, 136, 135],\n",
       "         [134, 133, 132],\n",
       "         [131, 130, 129],\n",
       "         [128, 127, 126]],\n",
       "\n",
       "        [[125, 124, 123],\n",
       "         [122, 121, 120],\n",
       "         [119, 118, 117],\n",
       "         [116, 115, 114],\n",
       "         [113, 112, 111],\n",
       "         [110, 109, 108]],\n",
       "\n",
       "        [[107, 106, 105],\n",
       "         [104, 103, 102],\n",
       "         [101, 100,  99],\n",
       "         [ 98,  97,  96],\n",
       "         [ 95,  94,  93],\n",
       "         [ 92,  91,  90]],\n",
       "\n",
       "        [[ 89,  88,  87],\n",
       "         [ 86,  85,  84],\n",
       "         [ 83,  82,  81],\n",
       "         [ 80,  79,  78],\n",
       "         [ 77,  76,  75],\n",
       "         [ 74,  73,  72]]],\n",
       "\n",
       "\n",
       "       [[[ 71,  70,  69],\n",
       "         [ 68,  67,  66],\n",
       "         [ 65,  64,  63],\n",
       "         [ 62,  61,  60],\n",
       "         [ 59,  58,  57],\n",
       "         [ 56,  55,  54]],\n",
       "\n",
       "        [[ 53,  52,  51],\n",
       "         [ 50,  49,  48],\n",
       "         [ 47,  46,  45],\n",
       "         [ 44,  43,  42],\n",
       "         [ 41,  40,  39],\n",
       "         [ 38,  37,  36]],\n",
       "\n",
       "        [[ 35,  34,  33],\n",
       "         [ 32,  31,  30],\n",
       "         [ 29,  28,  27],\n",
       "         [ 26,  25,  24],\n",
       "         [ 23,  22,  21],\n",
       "         [ 20,  19,  18]],\n",
       "\n",
       "        [[ 17,  16,  15],\n",
       "         [ 14,  13,  12],\n",
       "         [ 11,  10,   9],\n",
       "         [  8,   7,   6],\n",
       "         [  5,   4,   3],\n",
       "         [  2,   1,   0]]]])"
      ]
     },
     "execution_count": 18,
     "metadata": {},
     "output_type": "execute_result"
    }
   ],
   "source": [
    "b = np.arange(3*4*5*6)[::-1].reshape((5,4,6,3))\n",
    "b"
   ]
  },
  {
   "cell_type": "code",
   "execution_count": 19,
   "metadata": {},
   "outputs": [
    {
     "data": {
      "text/plain": [
       "499128"
      ]
     },
     "execution_count": 19,
     "metadata": {},
     "output_type": "execute_result"
    }
   ],
   "source": [
    "np.dot(a, b)[2,3,2,1,2,2]"
   ]
  },
  {
   "cell_type": "code",
   "execution_count": 21,
   "metadata": {},
   "outputs": [
    {
     "data": {
      "text/plain": [
       "499128"
      ]
     },
     "execution_count": 21,
     "metadata": {},
     "output_type": "execute_result"
    }
   ],
   "source": [
    "sum(a[2,3,2,:] * b[1,2,:,2])"
   ]
  },
  {
   "cell_type": "markdown",
   "metadata": {},
   "source": [
    "Transpose"
   ]
  },
  {
   "cell_type": "code",
   "execution_count": 22,
   "metadata": {},
   "outputs": [
    {
     "data": {
      "text/plain": [
       "array([[ 1,  2,  3,  4],\n",
       "       [ 5,  6,  7,  8],\n",
       "       [ 9, 10, 11, 12]])"
      ]
     },
     "execution_count": 22,
     "metadata": {},
     "output_type": "execute_result"
    }
   ],
   "source": [
    "m = np.array([[1,2,3,4], [5,6,7,8], [9, 10, 11, 12]])\n",
    "m"
   ]
  },
  {
   "cell_type": "code",
   "execution_count": 23,
   "metadata": {},
   "outputs": [
    {
     "data": {
      "text/plain": [
       "array([[ 1,  5,  9],\n",
       "       [ 2,  6, 10],\n",
       "       [ 3,  7, 11],\n",
       "       [ 4,  8, 12]])"
      ]
     },
     "execution_count": 23,
     "metadata": {},
     "output_type": "execute_result"
    }
   ],
   "source": [
    "m.T"
   ]
  },
  {
   "cell_type": "markdown",
   "metadata": {},
   "source": [
    "NumpyExam"
   ]
  },
  {
   "cell_type": "code",
   "execution_count": 49,
   "metadata": {},
   "outputs": [
    {
     "name": "stdout",
     "output_type": "stream",
     "text": [
      "Input as Array: [[-1  2  7]]\n",
      "Input minus min: [[0 3 8]]\n",
      "Input  Array: [[0.    0.375 1.   ]]\n",
      "Multiply 1:\n",
      "False\n",
      "Multiply 2:\n",
      "[[14]\n",
      " [32]]\n",
      "Multiply 3:\n",
      "[[ 9 12 15]]\n",
      "Mean == 2.6666666666666665\n"
     ]
    }
   ],
   "source": [
    "# Use the numpy library\n",
    "import numpy as np\n",
    "\n",
    "\n",
    "def prepare_inputs(inputs):\n",
    "    # TODO: create a 2-dimensional ndarray from the given 1-dimensional list;\n",
    "    #       assign it to input_array\n",
    "    input_array = (np.array([inputs]))\n",
    "    \n",
    "    # TODO: find the minimum value in input_array and subtract that\n",
    "    #       value from all the elements of input_array. Store the\n",
    "    #       result in inputs_minus_min\n",
    "    min_el = np.min(input_array)\n",
    "    inputs_minus_min = input_array - min_el\n",
    "\n",
    "    # TODO: find the maximum value in inputs_minus_min and divide\n",
    "    #       all of the values in inputs_minus_min by the maximum value.\n",
    "    #       Store the results in inputs_div_max.\n",
    "    max_el = np.max(inputs_minus_min)\n",
    "    inputs_div_max = inputs_minus_min / max_el\n",
    "\n",
    "    # return the three arrays we've created\n",
    "    return input_array, inputs_minus_min, inputs_div_max\n",
    "    \n",
    "\n",
    "def multiply_inputs(m1, m2):\n",
    "    # TODO: Check the shapes of the matrices m1 and m2. \n",
    "    #       m1 and m2 will be ndarray objects.\n",
    "    #\n",
    "    #       Return False if the shapes cannot be used for matrix\n",
    "    #       multiplication. You may not use a transpose\n",
    "    compatible = (m1.shape[1] == m2.shape[0]) \n",
    "    swap = (m2.shape[1] == m1.shape[0])\n",
    "    if not(compatible) and not(swap):\n",
    "        return compatible\n",
    "\n",
    "    # TODO: If you have not returned False, then calculate the matrix product\n",
    "    #       of m1 and m2 and return it. Do not use a transpose,\n",
    "    #       but you swap their order if necessary\n",
    "    if swap:\n",
    "        mat_prod = np.matmul(m2, m1)\n",
    "    else:\n",
    "        mat_prod = np.matmul(m1, m2)\n",
    "    return mat_prod\n",
    "    \n",
    "\n",
    "def find_mean(values):\n",
    "    # TODO: Return the average of the values in the given Python list\n",
    "    return sum(values) / len(values)\n",
    "\n",
    "\n",
    "input_array, inputs_minus_min, inputs_div_max = prepare_inputs([-1,2,7])\n",
    "print(\"Input as Array: {}\".format(input_array))\n",
    "print(\"Input minus min: {}\".format(inputs_minus_min))\n",
    "print(\"Input  Array: {}\".format(inputs_div_max))\n",
    "\n",
    "print(\"Multiply 1:\\n{}\".format(multiply_inputs(np.array([[1,2,3],[4,5,6]]), np.array([[1],[2],[3],[4]]))))\n",
    "print(\"Multiply 2:\\n{}\".format(multiply_inputs(np.array([[1,2,3],[4,5,6]]), np.array([[1],[2],[3]]))))\n",
    "print(\"Multiply 3:\\n{}\".format(multiply_inputs(np.array([[1,2,3],[4,5,6]]), np.array([[1,2]]))))\n",
    "\n",
    "print(\"Mean == {}\".format(find_mean([1,3,4])))"
   ]
  }
 ],
 "metadata": {
  "kernelspec": {
   "display_name": "Python (3.5.2)",
   "language": "python",
   "name": "python352"
  },
  "language_info": {
   "codemirror_mode": {
    "name": "ipython",
    "version": 3
   },
   "file_extension": ".py",
   "mimetype": "text/x-python",
   "name": "python",
   "nbconvert_exporter": "python",
   "pygments_lexer": "ipython3",
   "version": "3.5.2"
  }
 },
 "nbformat": 4,
 "nbformat_minor": 4
}
